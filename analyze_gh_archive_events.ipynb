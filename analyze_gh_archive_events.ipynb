{
 "cells": [
  {
   "cell_type": "code",
   "execution_count": 1,
   "id": "185eaa0b",
   "metadata": {},
   "outputs": [],
   "source": [
    "!ulimit -n 4096"
   ]
  },
  {
   "cell_type": "code",
   "execution_count": 2,
   "id": "7c9695da",
   "metadata": {},
   "outputs": [
    {
     "name": "stderr",
     "output_type": "stream",
     "text": [
      "/work/keichi/.pyenv/versions/3.9.12/lib/python3.9/site-packages/dask_jobqueue/core.py:20: FutureWarning: tmpfile is deprecated and will be removed in a future release. Please use dask.utils.tmpfile instead.\n",
      "  from distributed.utils import tmpfile\n"
     ]
    }
   ],
   "source": [
    "from dask.distributed import Client, progress\n",
    "from dask_jobqueue import SGECluster\n",
    "\n",
    "cluster = SGECluster(cores=24,\n",
    "                     processes=24,\n",
    "                     memory=\"250GB\",\n",
    "                     queue=\"grid_short.q\",\n",
    "                     interface=\"ib0\",\n",
    "                     scheduler_options={\"interface\": \"bond1\"},\n",
    "                     local_directory=\"/var/tmp\",\n",
    "                     job_extra=[\"-pe smp 24\"],\n",
    "                     walltime=\"04:00:00\")\n",
    "\n",
    "cluster.scale(jobs=10)\n",
    "\n",
    "client = Client(cluster)"
   ]
  },
  {
   "cell_type": "code",
   "execution_count": 3,
   "id": "37c85145",
   "metadata": {
    "scrolled": true
   },
   "outputs": [],
   "source": [
    "import dask.bag as db\n",
    "import dask.dataframe as dd\n",
    "import json\n",
    "\n",
    "lines = db.read_text(\"filtered/events.*.json.gz\")\n",
    "\n",
    "def parse_json(s):\n",
    "    try:\n",
    "        return json.loads(s)\n",
    "    except:\n",
    "        return {\"type\": \"ParseError\"}\n",
    "\n",
    "events = lines.map(parse_json)"
   ]
  },
  {
   "cell_type": "code",
   "execution_count": 17,
   "id": "a5e35637",
   "metadata": {},
   "outputs": [],
   "source": [
    "issues_events = events.filter(lambda e: e[\"type\"] == \"IssuesEvent\")\n",
    "issue_comment_events = events.filter(lambda e: e[\"type\"] == \"IssueCommentEvent\")\n",
    "pull_request_events = events.filter(lambda e: e[\"type\"] == \"PullRequestEvent\")\n",
    "pull_request_review_comment_events = events.filter(lambda e: e[\"type\"] == \"PullRequestReviewCommentEvent\")\n",
    "push_events = events.filter(lambda e: e[\"type\"] == \"PushEvent\")\n",
    "release_events = events.filter(lambda e: e[\"type\"] == \"ReleaseEvent\")"
   ]
  },
  {
   "cell_type": "code",
   "execution_count": 29,
   "id": "7b08c9af",
   "metadata": {
    "scrolled": false
   },
   "outputs": [],
   "source": [
    "issues_events.filter(lambda e: type(e[\"payload\"][\"issue\"]) is dict).map(lambda e: {\n",
    "    \"action\": e[\"payload\"][\"action\"],\n",
    "    \"actor\": e[\"actor\"][\"login\"],\n",
    "    \"repo\": e[\"repo\"][\"name\"],\n",
    "    \"number\": e[\"payload\"][\"issue\"][\"number\"],\n",
    "    \"title\": e[\"payload\"][\"issue\"][\"title\"],\n",
    "    \"body\": e[\"payload\"][\"issue\"][\"body\"],\n",
    "    \"created_at\": e[\"payload\"][\"issue\"][\"created_at\"],\n",
    "    \"updated_at\": e[\"payload\"][\"issue\"][\"updated_at\"],\n",
    "    \"closed_at\": e[\"payload\"][\"issue\"][\"closed_at\"],\n",
    "}).to_dataframe(meta={\n",
    "    \"action\": \"string\",\n",
    "    \"actor\": \"string\",\n",
    "    \"repo\": \"string\",\n",
    "    \"number\": \"int64\",\n",
    "    \"title\": \"string\",\n",
    "    \"body\": \"string\",\n",
    "    \"created_at\": \"datetime64[ns]\",\n",
    "    \"updated_at\": \"datetime64[ns]\",\n",
    "    \"closed_at\": \"datetime64[ns]\",\n",
    "}).set_index(\"created_at\").repartition(10).to_parquet(\"./issues\", overwrite=True)"
   ]
  },
  {
   "cell_type": "code",
   "execution_count": 28,
   "id": "e099d229",
   "metadata": {
    "scrolled": false
   },
   "outputs": [],
   "source": [
    "pull_request_events.map(lambda e: {\n",
    "    \"action\": e[\"payload\"][\"action\"],\n",
    "    \"actor\": e[\"actor\"][\"login\"],\n",
    "    \"repo\": e[\"repo\"][\"name\"],\n",
    "    \"number\": e[\"payload\"][\"pull_request\"][\"number\"],\n",
    "    \"title\": e[\"payload\"][\"pull_request\"][\"title\"],\n",
    "    \"body\": e[\"payload\"][\"pull_request\"].get(\"body\"),\n",
    "    \"created_at\": e[\"payload\"][\"pull_request\"].get(\"created_at\", e[\"created_at\"]),\n",
    "    \"updated_at\": e[\"payload\"][\"pull_request\"].get(\"updated_at\"),\n",
    "    \"closed_at\": e[\"payload\"][\"pull_request\"].get(\"closed_at\"),\n",
    "    \"merged_at\": e[\"payload\"][\"pull_request\"].get(\"merged_at\"),\n",
    "}).to_dataframe(meta={\n",
    "    \"action\": \"string\",\n",
    "    \"actor\": \"string\",\n",
    "    \"repo\": \"string\",\n",
    "    \"number\": \"int64\",\n",
    "    \"title\": \"string\",\n",
    "    \"body\": \"string\",\n",
    "    \"created_at\": \"datetime64[ns]\",\n",
    "    \"updated_at\": \"datetime64[ns]\",\n",
    "    \"closed_at\": \"datetime64[ns]\",\n",
    "    \"merged_at\": \"datetime64[ns]\"\n",
    "}).set_index(\"created_at\").repartition(10).to_parquet(\"./pull_requests\", overwrite=True)"
   ]
  },
  {
   "cell_type": "code",
   "execution_count": 31,
   "id": "609df18b",
   "metadata": {},
   "outputs": [],
   "source": [
    "release_events.map(lambda e: {\n",
    "    \"action\": e[\"payload\"][\"action\"],\n",
    "    \"actor\": e[\"actor\"][\"login\"],\n",
    "    \"repo\": e[\"repo\"][\"name\"],\n",
    "    \"tag_name\": e[\"payload\"][\"release\"][\"tag_name\"],\n",
    "    \"name\": e[\"payload\"][\"release\"][\"name\"],\n",
    "    \"created_at\": e[\"payload\"][\"release\"][\"created_at\"],\n",
    "    \"published_at\": e[\"payload\"][\"release\"][\"published_at\"],\n",
    "    \"tarball_url\": e[\"payload\"][\"release\"][\"tarball_url\"],\n",
    "    \"zipball_url\": e[\"payload\"][\"release\"][\"zipball_url\"]\n",
    "}).to_dataframe(meta={\n",
    "    \"action\": \"string\",\n",
    "    \"actor\": \"string\",\n",
    "    \"repo\": \"string\",\n",
    "    \"tag_name\": \"string\",\n",
    "    \"name\": \"string\",\n",
    "    \"created_at\": \"datetime64[ns]\",\n",
    "    \"published_at\": \"datetime64[ns]\",\n",
    "    \"tarball_url\": \"string\",\n",
    "    \"zipball_url\": \"string\"\n",
    "}).set_index(\"created_at\").repartition(10).to_parquet(\"./releases\", overwrite=True)"
   ]
  }
 ],
 "metadata": {
  "kernelspec": {
   "display_name": "Python 3 (ipykernel)",
   "language": "python",
   "name": "python3"
  },
  "language_info": {
   "codemirror_mode": {
    "name": "ipython",
    "version": 3
   },
   "file_extension": ".py",
   "mimetype": "text/x-python",
   "name": "python",
   "nbconvert_exporter": "python",
   "pygments_lexer": "ipython3",
   "version": "3.10.8"
  }
 },
 "nbformat": 4,
 "nbformat_minor": 5
}
