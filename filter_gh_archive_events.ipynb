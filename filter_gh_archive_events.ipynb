{
 "cells": [
  {
   "cell_type": "markdown",
   "id": "810de5f2",
   "metadata": {},
   "source": [
    "多数のDaskワーカとコネクションを開く必要があるため，ファイルディスクリプタ数の上限を上げておく．"
   ]
  },
  {
   "cell_type": "code",
   "execution_count": null,
   "id": "3154fcda",
   "metadata": {},
   "outputs": [],
   "source": [
    "!ulimit -n 4096"
   ]
  },
  {
   "cell_type": "markdown",
   "id": "5eca1769",
   "metadata": {},
   "source": [
    "Daskクラスタを起動する．設定の詳しい内容については https://keichi.dev/post/naist-cluster-dask/ を参照のこと．\n",
    "新しいクラスタでは，設定を適宜修正する必要があると思われる．"
   ]
  },
  {
   "cell_type": "code",
   "execution_count": null,
   "id": "7e1f34cd",
   "metadata": {
    "scrolled": false
   },
   "outputs": [],
   "source": [
    "from dask.distributed import Client, progress\n",
    "from dask_jobqueue import SGECluster\n",
    "\n",
    "cluster = SGECluster(cores=24,\n",
    "                     processes=24,\n",
    "                     memory=\"250GB\",\n",
    "                     queue=\"grid_short.q\",\n",
    "                     interface=\"ib0\",\n",
    "                     scheduler_options={\"interface\": \"bond1\"},\n",
    "                     local_directory=\"/var/tmp\",\n",
    "                     job_extra=[\"-pe smp 24\"],\n",
    "                     walltime=\"04:00:00\")\n",
    "\n",
    "cluster.scale(jobs=20)\n",
    "\n",
    "client = Client(cluster)"
   ]
  },
  {
   "cell_type": "markdown",
   "id": "9e0674cd",
   "metadata": {},
   "source": [
    "2011年から2016年までのGH Archiveのイベントデータを読み込み，パースした後，Dask Bagとして保持する．\n",
    "パースできないJSONがごく一部混じっているたため，パースが失敗した際はスキップする．"
   ]
  },
  {
   "cell_type": "code",
   "execution_count": null,
   "id": "68ea4784",
   "metadata": {},
   "outputs": [],
   "source": [
    "import dask.bag as db\n",
    "import json\n",
    "\n",
    "lines = db.concat([db.read_text(f\"/work/ichikawa/gharchive/{year}/*.json.gz\") for year in range(2011, 2016)])\n",
    "\n",
    "def parse_json(s):\n",
    "    try:\n",
    "        return json.loads(s)\n",
    "    except:\n",
    "        return {\"type\": \"ParseError\"}\n",
    "\n",
    "events = lines.map(parse_json)"
   ]
  },
  {
   "cell_type": "markdown",
   "id": "35ace178",
   "metadata": {},
   "source": [
    "1. SEART (https://seart-ghs.si.usi.ch/) からダンプしたPythonリポジトリの一覧をDataFrameとして開き，各種条件によってリポジトリを絞り込む．\n",
    "2. 先に読み込んだGH Archiveのイベントの中から対象リポジトリに関するものだけを抽出する．\n",
    "3. 抽出したイベントを再度JSON形式にシリアライズし，ファイルとして保存する．"
   ]
  },
  {
   "cell_type": "code",
   "execution_count": null,
   "id": "d896e9db",
   "metadata": {
    "scrolled": false
   },
   "outputs": [],
   "source": [
    "import dask.dataframe as dd\n",
    "\n",
    "repos = dd.read_csv(\"python_repos.csv\", assume_missing=True)\n",
    "query = \"not isFork and commits >= 100 and contributors >= 2 and releases >= 1 and lastCommit >= '2021-05-01'\"\n",
    "target_repos = repos.query(query).sort_values(by=[\"stargazers\"], ascending=False).compute()\n",
    "\n",
    "def is_target_repo(event):\n",
    "    if \"repo\" not in event:\n",
    "        return False\n",
    "    if \"name\" not in event[\"repo\"]:\n",
    "        return False\n",
    "    \n",
    "    return event[\"repo\"][\"name\"] in target_repos\n",
    "\n",
    "filtered_events = events.filter(is_target_repo)\n",
    "filtered_events.map(json.dumps).to_textfiles(\"events.*.json.gz\")"
   ]
  },
  {
   "cell_type": "code",
   "execution_count": null,
   "id": "bb1a0b04",
   "metadata": {
    "scrolled": false
   },
   "outputs": [],
   "source": [
    "%time events.map(lambda e: e[\"type\"]).frequencies(sort=True).compute()"
   ]
  },
  {
   "cell_type": "markdown",
   "id": "4c191c64",
   "metadata": {},
   "source": [
    "issueに関するイベントとpull requestに関するイベントを抽出する．"
   ]
  },
  {
   "cell_type": "code",
   "execution_count": null,
   "id": "d0d5008c",
   "metadata": {},
   "outputs": [],
   "source": [
    "issues_events = events.filter(lambda r: r[\"type\"] == \"IssuesEvent\")\n",
    "pull_request_events = events.filter(lambda r: r[\"type\"] == \"PullRequestEvent\")"
   ]
  },
  {
   "cell_type": "markdown",
   "id": "2e6710d3",
   "metadata": {},
   "source": [
    "各イベントから重要な属性を取り出し，DataFrameに変換した後，Apache Parquet形式で保存する．"
   ]
  },
  {
   "cell_type": "code",
   "execution_count": null,
   "id": "117ea969",
   "metadata": {
    "scrolled": false
   },
   "outputs": [],
   "source": [
    "issues_events.map(lambda e: {\n",
    "    \"action\": e[\"payload\"][\"action\"],\n",
    "    \"actor\": e[\"actor\"][\"login\"],\n",
    "    \"repo\": e[\"repo\"][\"name\"],\n",
    "    \"number\": e[\"payload\"][\"issue\"][\"number\"],\n",
    "    \"title\": e[\"payload\"][\"issue\"][\"title\"],\n",
    "    \"body\": e[\"payload\"][\"issue\"][\"body\"],\n",
    "    \"created_at\": e[\"payload\"][\"issue\"][\"created_at\"],\n",
    "    \"updated_at\": e[\"payload\"][\"issue\"][\"updated_at\"],\n",
    "    \"closed_at\": e[\"payload\"][\"issue\"][\"closed_at\"],\n",
    "}).to_dataframe().to_parquet(\"./issues\", overwrite=True)"
   ]
  },
  {
   "cell_type": "code",
   "execution_count": null,
   "id": "efab6f18",
   "metadata": {
    "scrolled": false
   },
   "outputs": [],
   "source": [
    "pull_request_events.map(lambda e: {\n",
    "    \"action\": e[\"payload\"][\"action\"],\n",
    "    \"actor\": e[\"actor\"][\"login\"],\n",
    "    \"repo\": e[\"repo\"][\"name\"],\n",
    "    \"number\": e[\"payload\"][\"pull_request\"][\"number\"],\n",
    "    \"title\": e[\"payload\"][\"pull_request\"][\"title\"],\n",
    "    \"body\": e[\"payload\"][\"pull_request\"][\"body\"],\n",
    "    \"created_at\": e[\"payload\"][\"pull_request\"][\"created_at\"],\n",
    "    \"updated_at\": e[\"payload\"][\"pull_request\"][\"updated_at\"],\n",
    "    \"closed_at\": e[\"payload\"][\"pull_request\"][\"closed_at\"],\n",
    "    \"merged_at\": e[\"payload\"][\"pull_request\"][\"merged_at\"],\n",
    "}).to_dataframe().to_parquet(\"./pull_requests\", overwrite=True)"
   ]
  },
  {
   "cell_type": "markdown",
   "id": "43c60410",
   "metadata": {},
   "source": [
    "Parquetファイルを読み込んでみる．"
   ]
  },
  {
   "cell_type": "code",
   "execution_count": null,
   "id": "af558eb3",
   "metadata": {
    "scrolled": false
   },
   "outputs": [],
   "source": [
    "import dask.dataframe as dd\n",
    "\n",
    "df = dd.read_parquet(\"pull_requests\").persist()\n",
    "\n",
    "df.head(10)"
   ]
  },
  {
   "cell_type": "code",
   "execution_count": null,
   "id": "86ca8b16",
   "metadata": {},
   "outputs": [],
   "source": [
    "df[\"repo\"].value_counts().head(20)"
   ]
  }
 ],
 "metadata": {
  "kernelspec": {
   "display_name": "Python 3 (ipykernel)",
   "language": "python",
   "name": "python3"
  },
  "language_info": {
   "codemirror_mode": {
    "name": "ipython",
    "version": 3
   },
   "file_extension": ".py",
   "mimetype": "text/x-python",
   "name": "python",
   "nbconvert_exporter": "python",
   "pygments_lexer": "ipython3",
   "version": "3.10.8"
  }
 },
 "nbformat": 4,
 "nbformat_minor": 5
}
